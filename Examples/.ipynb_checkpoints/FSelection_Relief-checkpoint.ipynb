{
 "cells": [
  {
   "cell_type": "markdown",
   "metadata": {},
   "source": [
    "# Import Library"
   ]
  },
  {
   "cell_type": "markdown",
   "metadata": {},
   "source": [
    "# Import Library"
   ]
  },
  {
   "cell_type": "markdown",
   "metadata": {},
   "source": [
    "Dependencies : notebook, numpy, pandas, scikit-learn"
   ]
  },
  {
   "cell_type": "code",
   "execution_count": null,
   "metadata": {},
   "outputs": [],
   "source": [
    "import sys\n",
    "sys.path.append('../')  # Add the parent directory to the Python path\n",
    "\n",
    "import warnings\n",
    "warnings.filterwarnings(\"ignore\") # Ignore all warnings\n",
    "\n",
    "import numpy as np\n",
    "import pandas as pd\n",
    "\n",
    "from Methods.ReliefF import ReliefF"
   ]
  },
  {
   "cell_type": "markdown",
   "metadata": {},
   "source": [
    "# Load Data"
   ]
  },
  {
   "cell_type": "code",
   "execution_count": null,
   "metadata": {},
   "outputs": [],
   "source": [
    "test = pd.read_csv(\"../data/test.csv\")\n",
    "train = pd.read_csv(\"../data/train.csv\")"
   ]
  },
  {
   "cell_type": "code",
   "execution_count": null,
   "metadata": {},
   "outputs": [],
   "source": [
    "train"
   ]
  },
  {
   "cell_type": "markdown",
   "metadata": {},
   "source": [
    "# Feature Selection"
   ]
  },
  {
   "cell_type": "code",
   "execution_count": null,
   "metadata": {},
   "outputs": [],
   "source": [
    "# Ensure 'MedHouseVal' is your target column and drop it from the feature set\n",
    "X = train.drop(columns=[\"MedHouseVal\"], axis=1)\n",
    "y = train[\"MedHouseVal\"]\n",
    "\n",
    "# Convert the DataFrame to NumPy arrays\n",
    "X = X.to_numpy()\n",
    "y = y.to_numpy()\n",
    "\n",
    "# Print the shapes to verify the conversion\n",
    "print(\"Feature matrix shape:\", X.shape)\n",
    "print(\"Target array shape:\", y.shape)"
   ]
  },
  {
   "cell_type": "code",
   "execution_count": null,
   "metadata": {},
   "outputs": [],
   "source": [
    "# Create an instance of the ReliefF class\n",
    "n_neighbors = 100  # Number of neighbors to consider\n",
    "n_features_to_keep = 10  # Number of features to keep\n",
    "reliefF = ReliefF(n_neighbors=n_neighbors, n_features_to_keep=n_features_to_keep)"
   ]
  },
  {
   "cell_type": "code",
   "execution_count": null,
   "metadata": {},
   "outputs": [],
   "source": [
    "# Fit the model on your training data\n",
    "reliefF.fit(X, y)\n",
    "\n",
    "# Transform the feature matrix to keep only the top features\n",
    "X_reduced = reliefF.transform(X)\n",
    "\n",
    "# Print the reduced feature matrix\n",
    "print(\"Original shape:\", X.shape)\n",
    "print(\"Reduced shape:\", X_reduced.shape)\n",
    "print(\"Top features:\", reliefF.top_features[:n_features_to_keep])"
   ]
  }
 ],
 "metadata": {
  "kernelspec": {
   "display_name": "Python 3 (ipykernel)",
   "language": "python",
   "name": "python3"
  },
  "language_info": {
   "codemirror_mode": {
    "name": "ipython",
    "version": 3
   },
   "file_extension": ".py",
   "mimetype": "text/x-python",
   "name": "python",
   "nbconvert_exporter": "python",
   "pygments_lexer": "ipython3",
   "version": "3.11.0"
  }
 },
 "nbformat": 4,
 "nbformat_minor": 4
}
